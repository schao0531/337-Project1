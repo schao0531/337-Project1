{
  "nbformat": 4,
  "nbformat_minor": 0,
  "metadata": {
    "colab": {
      "name": "NLP",
      "version": "0.3.2",
      "provenance": [],
      "collapsed_sections": [],
      "include_colab_link": true
    },
    "kernelspec": {
      "name": "python3",
      "display_name": "Python 3"
    }
  },
  "cells": [
    {
      "cell_type": "markdown",
      "metadata": {
        "id": "view-in-github",
        "colab_type": "text"
      },
      "source": [
        "<a href=\"https://colab.research.google.com/github/schao0531/337-Project1/blob/master/NLP.ipynb\" target=\"_parent\"><img src=\"https://colab.research.google.com/assets/colab-badge.svg\" alt=\"Open In Colab\"/></a>"
      ]
    },
    {
      "metadata": {
        "id": "lhM5McJNUooH",
        "colab_type": "text"
      },
      "cell_type": "markdown",
      "source": [
        "#Official Stuff"
      ]
    },
    {
      "metadata": {
        "id": "nzb1mO-FB1D9",
        "colab_type": "code",
        "colab": {}
      },
      "cell_type": "code",
      "source": [
        "import pandas as pd\n",
        "import json\n",
        "from pprint import pprint\n",
        "from collections import Counter\n",
        "from nltk import ngrams\n",
        "import re"
      ],
      "execution_count": 0,
      "outputs": []
    },
    {
      "metadata": {
        "id": "DUsw02Ad9n7f",
        "colab_type": "code",
        "colab": {}
      },
      "cell_type": "code",
      "source": [
        "def get_hosts(year):\n",
        "    '''Hosts is a list of one or more strings. Do NOT change the name\n",
        "    of this function or what it returns.'''\n",
        "    \n",
        "    # Your code here\n",
        "    \n",
        "    if year == '2013':\n",
        "      table = table2013\n",
        "      \n",
        "#    elif year == '2015':\n",
        "#      table = table2015\n",
        "\n",
        "    filtered_tweets = table.loc[(table['text'].str.contains('host|Host', regex=True)) & ~(table['text'].str.contains('next|Next', regex=True)) ]['text'] #contains word host, does not contain next\n",
        "    host_tweets = \" \".join(filtered_tweets) #merge to one string\n",
        "    host_tweets = re.sub(r'\\b%s\\b' % 'Golden Globes', '', host_tweets) #Remove the term Golden Globes\n",
        "    ngram_counts = Counter(ngrams(host_tweets.split(), 2)) #Create list of bigrams\n",
        "    top_bigrams = ngram_counts.most_common(10) #Find top 10\n",
        "    names = [bigram[0][0]+' '+bigram[0][1] for bigram in top_bigrams if bigram[0][0][0].isupper() and bigram[0][1][0].isupper()] #Filter out bigrams that aren't both capitalized    \n",
        "    return hosts\n",
        "\n",
        "def get_awards(year):\n",
        "    '''Awards is a list of strings. Do NOT change the name\n",
        "    of this function or what it returns.'''\n",
        "    # Your code here\n",
        "    return awards\n",
        "\n",
        "def get_nominees(year):\n",
        "    '''Nominees is a dictionary with the hard coded award\n",
        "    names as keys, and each entry a list of strings. Do NOT change\n",
        "    the name of this function or what it returns.'''\n",
        "    # Your code here\n",
        "    return nominees\n",
        "\n",
        "def get_winner(year):\n",
        "    '''Winners is a dictionary with the hard coded award\n",
        "    names as keys, and each entry containing a single string.\n",
        "    Do NOT change the name of this function or what it returns.'''\n",
        "    # Your code here\n",
        "    return winners\n",
        "\n",
        "def get_presenters(year):\n",
        "    '''Presenters is a dictionary with the hard coded award\n",
        "    names as keys, and each entry a list of strings. Do NOT change the\n",
        "    name of this function or what it returns.'''\n",
        "    # Your code here\n",
        "    return presenters\n",
        "\n",
        "def pre_ceremony():\n",
        "    '''This function loads/fetches/processes any data your program\n",
        "    will use, and stores that data in your DB or in a json, csv, or\n",
        "    plain text file. It is the first thing the TA will run when grading.\n",
        "    Do NOT change the name of this function or what it returns.'''\n",
        "    \n",
        "    # Your code here\n",
        "    with open('gg2013.json') as f:\n",
        "      data = json.load(f)\n",
        "    \n",
        "    Id = []\n",
        "    text = []\n",
        "    timestamp = []\n",
        "    user_id = []\n",
        "    screen_name = []\n",
        "\n",
        "    for row in data:\n",
        "      Id.append(row['id'])\n",
        "      text.append(row['text'])\n",
        "      timestamp.append(row['timestamp_ms'])\n",
        "      user_id.append(row['user']['id'])\n",
        "      screen_name.append(row['user']['screen_name'])\n",
        "\n",
        "    global table2013\n",
        "    table2013 = pd.DataFrame({'text':text,'timestamp':timestamp,'user_id':user_id,'user_screen_name':screen_name},index=Id)\n",
        "    table2013.index.rename('id',inplace=True)\n",
        "\n",
        "\n",
        "\"\"\"\n",
        "    with open('gg2015.json') as f:\n",
        "      data = json.load(f)    \n",
        "    Id = []\n",
        "    text = []\n",
        "    timestamp = []\n",
        "    user_id = []\n",
        "    screen_name = []\n",
        "\n",
        "    for row in data:\n",
        "      Id.append(row['id'])\n",
        "      text.append(row['text'])\n",
        "      timestamp.append(row['timestamp_ms'])\n",
        "      user_id.append(row['user']['id'])\n",
        "      screen_name.append(row['user']['screen_name'])\n",
        "\n",
        "    global table2015\n",
        "    table2015 = pd.DataFrame({'text':text,'timestamp':timestamp,'user_id':user_id,'user_screen_name':screen_name},index=Id)\n",
        "    table2015.index.rename('id',inplace=True)\n",
        "\"\"\"\n",
        "\n",
        "\n",
        "    print(\"Pre-ceremony processing complete.\")\n",
        "    return\n",
        "\n",
        "def main():\n",
        "    '''This function calls your program. Typing \"python gg_api.py\"\n",
        "    will run this function. Or, in the interpreter, import gg_api\n",
        "    and then run gg_api.main(). This is the second thing the TA will\n",
        "    run when grading. Do NOT change the name of this function or\n",
        "    what it returns.'''\n",
        "    # Your code here\n",
        "    return\n"
      ],
      "execution_count": 0,
      "outputs": []
    },
    {
      "metadata": {
        "id": "KNn6FU9VMWux",
        "colab_type": "text"
      },
      "cell_type": "markdown",
      "source": [
        "# NICO"
      ]
    },
    {
      "metadata": {
        "id": "KV1GmsIHAqEu",
        "colab_type": "code",
        "colab": {}
      },
      "cell_type": "code",
      "source": [
        "def json_to_pd():\n",
        "  with open('gg2013.json') as f:\n",
        "    data = json.load(f)\n",
        "    \n",
        "  Id = []\n",
        "  text = []\n",
        "  timestamp = []\n",
        "  user_id = []\n",
        "  screen_name = []\n",
        "\n",
        "  for row in data:\n",
        "    Id.append(row['id'])\n",
        "    text.append(row['text'])\n",
        "    timestamp.append(row['timestamp_ms'])\n",
        "    user_id.append(row['user']['id'])\n",
        "    screen_name.append(row['user']['screen_name'])\n",
        "\n",
        "  table = pd.DataFrame({'text':text,'timestamp':timestamp,'user_id':user_id,'user_screen_name':screen_name},index=Id)\n",
        "  table.index.rename('id',inplace=True)\n",
        "  return table"
      ],
      "execution_count": 0,
      "outputs": []
    },
    {
      "metadata": {
        "id": "sAaK-5I4BfLm",
        "colab_type": "code",
        "colab": {}
      },
      "cell_type": "code",
      "source": [
        "tweets = json_to_pd(data)"
      ],
      "execution_count": 0,
      "outputs": []
    },
    {
      "metadata": {
        "id": "EBHG3u_IL-1r",
        "colab_type": "text"
      },
      "cell_type": "markdown",
      "source": [
        "# STACEY"
      ]
    },
    {
      "metadata": {
        "id": "6nsLKWr2L_6D",
        "colab_type": "code",
        "colab": {}
      },
      "cell_type": "code",
      "source": [
        ""
      ],
      "execution_count": 0,
      "outputs": []
    },
    {
      "metadata": {
        "id": "xEVAxnUEMfWs",
        "colab_type": "text"
      },
      "cell_type": "markdown",
      "source": [
        "# CHRISTOPHER"
      ]
    },
    {
      "metadata": {
        "id": "GaAJno6_Mgj2",
        "colab_type": "code",
        "colab": {}
      },
      "cell_type": "code",
      "source": [
        ""
      ],
      "execution_count": 0,
      "outputs": []
    }
  ]
}